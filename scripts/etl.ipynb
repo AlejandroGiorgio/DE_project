{
 "cells": [
  {
   "cell_type": "markdown",
   "metadata": {},
   "source": [
    "### ETL PROTOTYPE \n",
    "\n",
    "- Alejandro Giorgio"
   ]
  },
  {
   "cell_type": "code",
   "execution_count": 1,
   "metadata": {},
   "outputs": [],
   "source": [
    "import requests\n",
    "import pandas as pd\n",
    "import io\n",
    "import json"
   ]
  },
  {
   "cell_type": "code",
   "execution_count": 2,
   "metadata": {},
   "outputs": [
    {
     "data": {
      "text/plain": [
       "True"
      ]
     },
     "execution_count": 2,
     "metadata": {},
     "output_type": "execute_result"
    }
   ],
   "source": [
    "from dotenv import load_dotenv\n",
    "load_dotenv()"
   ]
  },
  {
   "cell_type": "code",
   "execution_count": 3,
   "metadata": {},
   "outputs": [],
   "source": [
    "base_url = \"https://data.sfgov.org/resource/wg3w-h783.json\""
   ]
  },
  {
   "cell_type": "code",
   "execution_count": 4,
   "metadata": {},
   "outputs": [],
   "source": [
    "# Initialize offset\n",
    "offset = 0\n",
    "\n",
    "# Number of records to fetch in each request\n",
    "limit = 50000"
   ]
  },
  {
   "cell_type": "markdown",
   "metadata": {},
   "source": [
    "La API tiene un límite de devolver 50000 filas de datos por vez. Si queremos obtener más de 50000 registros, tenemos que manejar esta limitación en nuestro código.\n",
    "\n",
    "Podemos usar los parámetros ‘$offset’ y ‘$limit’ que provee la API para obtener todos los registros. Empezamos con un offset de 0 y un límite de 50000 (o cualquier otro número hasta el límite máximo permitido por la API). Enviamos un pedido GET a la API con estos parámetros y obtenemos los primeros 50000 registros. Después aumentamos el offset por el límite (50000 en este caso) y enviamos otro pedido para obtener los siguientes 50000 registros. Repetimos este proceso hasta que la API no devuelva datos, lo que significa que hemos obtenido todos los registros."
   ]
  },
  {
   "cell_type": "code",
   "execution_count": 5,
   "metadata": {},
   "outputs": [],
   "source": [
    "df = pd.DataFrame()"
   ]
  },
  {
   "cell_type": "code",
   "execution_count": 6,
   "metadata": {},
   "outputs": [
    {
     "name": "stdout",
     "output_type": "stream",
     "text": [
      "offset is 50000\n",
      "offset is 100000\n",
      "offset is 150000\n",
      "offset is 200000\n",
      "offset is 250000\n",
      "offset is 300000\n",
      "offset is 350000\n",
      "offset is 400000\n",
      "offset is 450000\n",
      "offset is 500000\n",
      "offset is 550000\n",
      "offset is 600000\n",
      "offset is 650000\n",
      "offset is 700000\n",
      "offset is 750000\n",
      "offset is 800000\n",
      "offset is 850000\n"
     ]
    }
   ],
   "source": [
    "while True:\n",
    "    # Construct the URL with the offset and limit parameters\n",
    "    url = f\"{base_url}?$limit={limit}&$offset={offset}\"\n",
    "\n",
    "    # Send a GET request to the API endpoint\n",
    "    response = requests.get(url)\n",
    "\n",
    "    # Check if the request was successful\n",
    "    if response.status_code == 200:\n",
    "        # Convert the response content to a pandas DataFrame\n",
    "        data = pd.read_json(io.StringIO(response.text))\n",
    "\n",
    "        # If no data is returned, we've fetched all records\n",
    "        if data.empty:\n",
    "            break\n",
    "\n",
    "        # Append the data to df DataFrame using pandas.concat\n",
    "        df = pd.concat([df, data], ignore_index=True)\n",
    "\n",
    "        # Increase the offset by limit\n",
    "        offset += limit\n",
    "\n",
    "        print(f\"offset is {offset}\")\n",
    "    else:\n",
    "        print(f\"Failed to fetch data. Status code: {response.status_code}\")\n",
    "        break"
   ]
  },
  {
   "cell_type": "markdown",
   "metadata": {},
   "source": [
    "### Modeling the data"
   ]
  },
  {
   "cell_type": "code",
   "execution_count": 7,
   "metadata": {},
   "outputs": [],
   "source": [
    "# Convert date columns to datetime\n",
    "from scripts.constants import date_columns, string_columns\n",
    "\n",
    "for col in date_columns:\n",
    "    df[col] = pd.to_datetime(df[col])\n",
    "\n",
    "for col in string_columns:\n",
    "    df[col] = df[col].str.lower().str.strip()"
   ]
  },
  {
   "cell_type": "code",
   "execution_count": 8,
   "metadata": {},
   "outputs": [],
   "source": [
    "threshold = int(0.6 * len(df))\n",
    "df = df.dropna(thresh=threshold, axis=1)"
   ]
  },
  {
   "cell_type": "code",
   "execution_count": 9,
   "metadata": {},
   "outputs": [],
   "source": [
    "df.columns = df.columns.str.replace(':', '')\n",
    "df.columns = df.columns.str.replace('@', '')"
   ]
  },
  {
   "cell_type": "code",
   "execution_count": 10,
   "metadata": {},
   "outputs": [],
   "source": [
    "df['point'] = df['point'].apply(json.dumps)"
   ]
  },
  {
   "cell_type": "code",
   "execution_count": 11,
   "metadata": {},
   "outputs": [],
   "source": [
    "df = df.drop_duplicates()"
   ]
  },
  {
   "cell_type": "code",
   "execution_count": 12,
   "metadata": {},
   "outputs": [
    {
     "data": {
      "text/html": [
       "<div>\n",
       "<style scoped>\n",
       "    .dataframe tbody tr th:only-of-type {\n",
       "        vertical-align: middle;\n",
       "    }\n",
       "\n",
       "    .dataframe tbody tr th {\n",
       "        vertical-align: top;\n",
       "    }\n",
       "\n",
       "    .dataframe thead th {\n",
       "        text-align: right;\n",
       "    }\n",
       "</style>\n",
       "<table border=\"1\" class=\"dataframe\">\n",
       "  <thead>\n",
       "    <tr style=\"text-align: right;\">\n",
       "      <th></th>\n",
       "      <th>22671</th>\n",
       "      <th>700288</th>\n",
       "    </tr>\n",
       "  </thead>\n",
       "  <tbody>\n",
       "    <tr>\n",
       "      <th>incident_datetime</th>\n",
       "      <td>2023-04-25 19:09:00</td>\n",
       "      <td>2019-10-27 21:30:00</td>\n",
       "    </tr>\n",
       "    <tr>\n",
       "      <th>incident_date</th>\n",
       "      <td>2023-04-25 00:00:00</td>\n",
       "      <td>2019-10-27 00:00:00</td>\n",
       "    </tr>\n",
       "    <tr>\n",
       "      <th>incident_time</th>\n",
       "      <td>2024-04-02 19:09:00</td>\n",
       "      <td>2024-04-02 21:30:00</td>\n",
       "    </tr>\n",
       "    <tr>\n",
       "      <th>incident_year</th>\n",
       "      <td>2023</td>\n",
       "      <td>2019</td>\n",
       "    </tr>\n",
       "    <tr>\n",
       "      <th>incident_day_of_week</th>\n",
       "      <td>tuesday</td>\n",
       "      <td>sunday</td>\n",
       "    </tr>\n",
       "    <tr>\n",
       "      <th>report_datetime</th>\n",
       "      <td>2023-04-25 19:11:00</td>\n",
       "      <td>2019-10-27 21:38:00</td>\n",
       "    </tr>\n",
       "    <tr>\n",
       "      <th>row_id</th>\n",
       "      <td>126975164020</td>\n",
       "      <td>86341515200</td>\n",
       "    </tr>\n",
       "    <tr>\n",
       "      <th>incident_id</th>\n",
       "      <td>1269751</td>\n",
       "      <td>863415</td>\n",
       "    </tr>\n",
       "    <tr>\n",
       "      <th>incident_number</th>\n",
       "      <td>230288141</td>\n",
       "      <td>190813307</td>\n",
       "    </tr>\n",
       "    <tr>\n",
       "      <th>report_type_code</th>\n",
       "      <td>ii</td>\n",
       "      <td>ii</td>\n",
       "    </tr>\n",
       "    <tr>\n",
       "      <th>report_type_description</th>\n",
       "      <td>initial</td>\n",
       "      <td>initial</td>\n",
       "    </tr>\n",
       "    <tr>\n",
       "      <th>incident_code</th>\n",
       "      <td>64020</td>\n",
       "      <td>15200</td>\n",
       "    </tr>\n",
       "    <tr>\n",
       "      <th>incident_category</th>\n",
       "      <td>non-criminal</td>\n",
       "      <td>offences against the family and children</td>\n",
       "    </tr>\n",
       "    <tr>\n",
       "      <th>incident_subcategory</th>\n",
       "      <td>other</td>\n",
       "      <td>other</td>\n",
       "    </tr>\n",
       "    <tr>\n",
       "      <th>incident_description</th>\n",
       "      <td>mental health detention</td>\n",
       "      <td>domestic violence (secondary only)</td>\n",
       "    </tr>\n",
       "    <tr>\n",
       "      <th>resolution</th>\n",
       "      <td>open or active</td>\n",
       "      <td>open or active</td>\n",
       "    </tr>\n",
       "    <tr>\n",
       "      <th>police_district</th>\n",
       "      <td>northern</td>\n",
       "      <td>central</td>\n",
       "    </tr>\n",
       "    <tr>\n",
       "      <th>cad_number</th>\n",
       "      <td>231152899.0</td>\n",
       "      <td>193004013.0</td>\n",
       "    </tr>\n",
       "    <tr>\n",
       "      <th>intersection</th>\n",
       "      <td>steiner st \\ lombard st</td>\n",
       "      <td>larkin st \\ california st</td>\n",
       "    </tr>\n",
       "    <tr>\n",
       "      <th>cnn</th>\n",
       "      <td>26770000.0</td>\n",
       "      <td>25294000.0</td>\n",
       "    </tr>\n",
       "    <tr>\n",
       "      <th>analysis_neighborhood</th>\n",
       "      <td>marina</td>\n",
       "      <td>nob hill</td>\n",
       "    </tr>\n",
       "    <tr>\n",
       "      <th>supervisor_district</th>\n",
       "      <td>2.0</td>\n",
       "      <td>3.0</td>\n",
       "    </tr>\n",
       "    <tr>\n",
       "      <th>supervisor_district_2012</th>\n",
       "      <td>2.0</td>\n",
       "      <td>3.0</td>\n",
       "    </tr>\n",
       "    <tr>\n",
       "      <th>latitude</th>\n",
       "      <td>37.799634</td>\n",
       "      <td>37.790788</td>\n",
       "    </tr>\n",
       "    <tr>\n",
       "      <th>longitude</th>\n",
       "      <td>-122.437695</td>\n",
       "      <td>-122.419036</td>\n",
       "    </tr>\n",
       "    <tr>\n",
       "      <th>point</th>\n",
       "      <td>{\"type\": \"Point\", \"coordinates\": [-122.4376947...</td>\n",
       "      <td>{\"type\": \"Point\", \"coordinates\": [-122.4190362...</td>\n",
       "    </tr>\n",
       "    <tr>\n",
       "      <th>computed_region_26cr_cadq</th>\n",
       "      <td>6.0</td>\n",
       "      <td>3.0</td>\n",
       "    </tr>\n",
       "    <tr>\n",
       "      <th>computed_region_qgnn_b9vv</th>\n",
       "      <td>4.0</td>\n",
       "      <td>6.0</td>\n",
       "    </tr>\n",
       "    <tr>\n",
       "      <th>computed_region_jwn9_ihcz</th>\n",
       "      <td>17.0</td>\n",
       "      <td>105.0</td>\n",
       "    </tr>\n",
       "  </tbody>\n",
       "</table>\n",
       "</div>"
      ],
      "text/plain": [
       "                                                                      22671   \\\n",
       "incident_datetime                                        2023-04-25 19:09:00   \n",
       "incident_date                                            2023-04-25 00:00:00   \n",
       "incident_time                                            2024-04-02 19:09:00   \n",
       "incident_year                                                           2023   \n",
       "incident_day_of_week                                                 tuesday   \n",
       "report_datetime                                          2023-04-25 19:11:00   \n",
       "row_id                                                          126975164020   \n",
       "incident_id                                                          1269751   \n",
       "incident_number                                                    230288141   \n",
       "report_type_code                                                          ii   \n",
       "report_type_description                                              initial   \n",
       "incident_code                                                          64020   \n",
       "incident_category                                               non-criminal   \n",
       "incident_subcategory                                                   other   \n",
       "incident_description                                 mental health detention   \n",
       "resolution                                                    open or active   \n",
       "police_district                                                     northern   \n",
       "cad_number                                                       231152899.0   \n",
       "intersection                                         steiner st \\ lombard st   \n",
       "cnn                                                               26770000.0   \n",
       "analysis_neighborhood                                                 marina   \n",
       "supervisor_district                                                      2.0   \n",
       "supervisor_district_2012                                                 2.0   \n",
       "latitude                                                           37.799634   \n",
       "longitude                                                        -122.437695   \n",
       "point                      {\"type\": \"Point\", \"coordinates\": [-122.4376947...   \n",
       "computed_region_26cr_cadq                                                6.0   \n",
       "computed_region_qgnn_b9vv                                                4.0   \n",
       "computed_region_jwn9_ihcz                                               17.0   \n",
       "\n",
       "                                                                      700288  \n",
       "incident_datetime                                        2019-10-27 21:30:00  \n",
       "incident_date                                            2019-10-27 00:00:00  \n",
       "incident_time                                            2024-04-02 21:30:00  \n",
       "incident_year                                                           2019  \n",
       "incident_day_of_week                                                  sunday  \n",
       "report_datetime                                          2019-10-27 21:38:00  \n",
       "row_id                                                           86341515200  \n",
       "incident_id                                                           863415  \n",
       "incident_number                                                    190813307  \n",
       "report_type_code                                                          ii  \n",
       "report_type_description                                              initial  \n",
       "incident_code                                                          15200  \n",
       "incident_category                   offences against the family and children  \n",
       "incident_subcategory                                                   other  \n",
       "incident_description                      domestic violence (secondary only)  \n",
       "resolution                                                    open or active  \n",
       "police_district                                                      central  \n",
       "cad_number                                                       193004013.0  \n",
       "intersection                                       larkin st \\ california st  \n",
       "cnn                                                               25294000.0  \n",
       "analysis_neighborhood                                               nob hill  \n",
       "supervisor_district                                                      3.0  \n",
       "supervisor_district_2012                                                 3.0  \n",
       "latitude                                                           37.790788  \n",
       "longitude                                                        -122.419036  \n",
       "point                      {\"type\": \"Point\", \"coordinates\": [-122.4190362...  \n",
       "computed_region_26cr_cadq                                                3.0  \n",
       "computed_region_qgnn_b9vv                                                6.0  \n",
       "computed_region_jwn9_ihcz                                              105.0  "
      ]
     },
     "execution_count": 12,
     "metadata": {},
     "output_type": "execute_result"
    }
   ],
   "source": [
    "df.sample(2).transpose()"
   ]
  },
  {
   "cell_type": "markdown",
   "metadata": {},
   "source": [
    "### INTEGRATION WITH REDSHIFT"
   ]
  },
  {
   "cell_type": "code",
   "execution_count": 13,
   "metadata": {},
   "outputs": [],
   "source": [
    "import os\n",
    "import psycopg2\n",
    "from psycopg2.extensions import ISOLATION_LEVEL_AUTOCOMMIT\n",
    "from sqlalchemy import create_engine"
   ]
  },
  {
   "cell_type": "code",
   "execution_count": 18,
   "metadata": {},
   "outputs": [],
   "source": [
    "# Define your Redshift credentials\n",
    "host = os.environ[\"REDSHIFT_HOST\"]\n",
    "dbname = os.environ[\"REDSHIFT_DATABASE\"]\n",
    "user = os.environ[\"REDSHIFT_USER\"]\n",
    "password = os.environ[\"REDSHIFT_PWD\"]\n",
    "port = os.environ[\"REDSHIFT_PORT\"]\n"
   ]
  },
  {
   "cell_type": "code",
   "execution_count": 32,
   "metadata": {},
   "outputs": [],
   "source": [
    "host = \"data-engineer-cluster.cyhh5bfevlmn.us-east-1.redshift.amazonaws.com\""
   ]
  },
  {
   "cell_type": "code",
   "execution_count": 34,
   "metadata": {},
   "outputs": [],
   "source": [
    "# Create a connection to Redshift\n",
    "conn = psycopg2.connect(\n",
    "    dbname=dbname,\n",
    "    user=user,\n",
    "    password=password,\n",
    "    port=port,\n",
    "    host=host\n",
    ")"
   ]
  },
  {
   "cell_type": "markdown",
   "metadata": {},
   "source": [
    "### Creacion de la tabla"
   ]
  },
  {
   "cell_type": "code",
   "execution_count": 35,
   "metadata": {},
   "outputs": [],
   "source": [
    "# Ensure that every single operation with the database is treated as a transaction and is immediately committed to the database.\n",
    "conn.set_isolation_level(ISOLATION_LEVEL_AUTOCOMMIT)\n",
    "\n",
    "# Create a cursor object\n",
    "cur = conn.cursor()\n",
    "\n",
    "# Creating the table\n",
    "create_table_command = \"\"\"\n",
    "CREATE TABLE IF NOT EXISTS sf_police_incidents (\n",
    "    incident_datetime TIMESTAMP,\n",
    "    incident_date DATE,\n",
    "    incident_time TIME,\n",
    "    incident_year INT,\n",
    "    incident_day_of_week VARCHAR(255),\n",
    "    report_datetime TIMESTAMP,\n",
    "    row_id BIGINT,\n",
    "    incident_id INT,\n",
    "    incident_number INT,\n",
    "    report_type_code VARCHAR(255),\n",
    "    report_type_description VARCHAR(255),\n",
    "    incident_code INT,\n",
    "    incident_category VARCHAR(255),\n",
    "    incident_subcategory VARCHAR(255),\n",
    "    incident_description VARCHAR(255),\n",
    "    resolution VARCHAR(255),\n",
    "    police_district VARCHAR(255),\n",
    "    cad_number FLOAT,\n",
    "    intersection VARCHAR(255),\n",
    "    cnn FLOAT,\n",
    "    analysis_neighborhood VARCHAR(255),\n",
    "    supervisor_district FLOAT,\n",
    "    supervisor_district_2012 FLOAT,\n",
    "    latitude FLOAT,\n",
    "    longitude FLOAT,\n",
    "    point VARCHAR(255),\n",
    "    computed_region_26cr_cadq FLOAT,\n",
    "    computed_region_qgnn_b9vv FLOAT,\n",
    "    computed_region_jwn9_ihcz FLOAT\n",
    ")\n",
    "\"\"\"\n",
    "\n",
    "\n",
    "# Execute the SQL command\n",
    "cur.execute(create_table_command)"
   ]
  },
  {
   "cell_type": "markdown",
   "metadata": {},
   "source": [
    "Carga a la tabla del dataframe luego del proceso de ETL"
   ]
  },
  {
   "cell_type": "code",
   "execution_count": 36,
   "metadata": {},
   "outputs": [],
   "source": [
    "# Close the cursor and connection\n",
    "cur.close()\n",
    "conn.close()\n",
    "\n",
    "# Create an SQLAlchemy engine\n",
    "engine = create_engine(\n",
    "    f\"postgresql+psycopg2://{user}:{password}@{host}:{port}/{dbname}\"\n",
    ")\n",
    "\n",
    "# Write the DataFrame to the table in Redshift\n",
    "df.to_sql(\"sf_police_incidents\", engine, if_exists=\"append\", index=False)"
   ]
  }
 ],
 "metadata": {
  "kernelspec": {
   "display_name": "Python 3",
   "language": "python",
   "name": "python3"
  },
  "language_info": {
   "codemirror_mode": {
    "name": "ipython",
    "version": 3
   },
   "file_extension": ".py",
   "mimetype": "text/x-python",
   "name": "python",
   "nbconvert_exporter": "python",
   "pygments_lexer": "ipython3",
   "version": "3.9.13"
  }
 },
 "nbformat": 4,
 "nbformat_minor": 2
}
